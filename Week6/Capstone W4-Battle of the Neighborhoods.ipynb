{
    "cells": [
        {
            "cell_type": "markdown",
            "metadata": {
                "collapsed": true
            },
            "source": "# IBM Applied Data Science Capstone Course by Coursera"
        },
        {
            "cell_type": "markdown",
            "metadata": {},
            "source": "## Week 4: Business Case idea, and Data\n## What would be the best areas in Dubai to open a new restaurant?"
        },
        {
            "cell_type": "markdown",
            "metadata": {},
            "source": "### 1. Introduction"
        },
        {
            "cell_type": "markdown",
            "metadata": {},
            "source": "Dubai is a world-class city with residents and visitors from all parts of the globe. As such, there is a large number of restaurants serving cuisines to satify any palette, and providing a dining experience from the very basic to the most exquisite.\nThis is also a great opportunity for someone to open a new restaurant. However, given the thriving restaurant scene, competition and a diverse population, it is challenging to find the best location for a restaurant and a particular cuisine.\n<br>In this project we will analyze this business case to find the best places for a new restaurant, by using available data for the existing restaurants and clustering the Dubai communities."
        },
        {
            "cell_type": "markdown",
            "metadata": {},
            "source": "### 2. Data"
        },
        {
            "cell_type": "markdown",
            "metadata": {},
            "source": "#### 2.1 Dubai Communities"
        },
        {
            "cell_type": "markdown",
            "metadata": {},
            "source": "We will get the list of the Dubai communities from Wikipedia: https://en.wikipedia.org/wiki/List_of_communities_in_Dubai. \nFor each community, it provides the below data:\n1. Name\n2. Area\n3. Population\n4. Population Density\n\nFor this project we will use these features to cluster the communities."
        },
        {
            "cell_type": "markdown",
            "metadata": {},
            "source": "#### 2.2 Foursquare Data"
        },
        {
            "cell_type": "markdown",
            "metadata": {},
            "source": "To analyze and cluster the existing restaurants, we will use Foursquare API to query the neighborhoods for the necessary data. "
        },
        {
            "cell_type": "code",
            "execution_count": null,
            "metadata": {},
            "outputs": [],
            "source": ""
        }
    ],
    "metadata": {
        "kernelspec": {
            "display_name": "Python 3.6",
            "language": "python",
            "name": "python3"
        },
        "language_info": {
            "codemirror_mode": {
                "name": "ipython",
                "version": 3
            },
            "file_extension": ".py",
            "mimetype": "text/x-python",
            "name": "python",
            "nbconvert_exporter": "python",
            "pygments_lexer": "ipython3",
            "version": "3.6.9"
        }
    },
    "nbformat": 4,
    "nbformat_minor": 1
}